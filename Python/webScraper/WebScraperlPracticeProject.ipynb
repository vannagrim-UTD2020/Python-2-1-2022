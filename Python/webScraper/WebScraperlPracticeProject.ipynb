{
  "nbformat": 4,
  "nbformat_minor": 0,
  "metadata": {
    "colab": {
      "provenance": []
    },
    "kernelspec": {
      "name": "python3",
      "display_name": "Python 3"
    },
    "language_info": {
      "name": "python"
    }
  },
  "cells": [
    {
      "cell_type": "code",
      "execution_count": 43,
      "metadata": {
        "id": "qKcAGusoaDbx"
      },
      "outputs": [],
      "source": [
        "import requests\n",
        "import pandas as pd\n",
        "from bs4 import BeautifulSoup\n",
        "\n",
        "\n",
        "x = requests.get('http://quotes.toscrape.com/')\n",
        "soup = BeautifulSoup(x.text)\n",
        "\n"
      ]
    },
    {
      "cell_type": "code",
      "source": [
        "#get all of the quotes from the link\n",
        "for i in soup.findAll(\"div\",{\"class\":\"quote\"}):\n",
        "    print((i.find(\"span\",{\"class\":\"text\"})).text)\n"
      ],
      "metadata": {
        "colab": {
          "base_uri": "https://localhost:8080/"
        },
        "id": "G52TFhRKbRby",
        "outputId": "c0386878-6dfb-4839-a14b-8bcd8fe1e29e"
      },
      "execution_count": 44,
      "outputs": [
        {
          "output_type": "stream",
          "name": "stdout",
          "text": [
            "“The world as we have created it is a process of our thinking. It cannot be changed without changing our thinking.”\n",
            "“It is our choices, Harry, that show what we truly are, far more than our abilities.”\n",
            "“There are only two ways to live your life. One is as though nothing is a miracle. The other is as though everything is a miracle.”\n",
            "“The person, be it gentleman or lady, who has not pleasure in a good novel, must be intolerably stupid.”\n",
            "“Imperfection is beauty, madness is genius and it's better to be absolutely ridiculous than absolutely boring.”\n",
            "“Try not to become a man of success. Rather become a man of value.”\n",
            "“It is better to be hated for what you are than to be loved for what you are not.”\n",
            "“I have not failed. I've just found 10,000 ways that won't work.”\n",
            "“A woman is like a tea bag; you never know how strong it is until it's in hot water.”\n",
            "“A day without sunshine is like, you know, night.”\n"
          ]
        }
      ]
    },
    {
      "cell_type": "code",
      "source": [
        "#scrape the authors. \n",
        "for i in soup.findAll(\"div\",{\"class\":\"quote\"}):\n",
        "    print((i.find(\"small\",{\"class\":\"author\"})).text)"
      ],
      "metadata": {
        "colab": {
          "base_uri": "https://localhost:8080/"
        },
        "id": "PjmbHwa3bqi-",
        "outputId": "5c220433-f97f-4d83-a38b-e872a4b5713f"
      },
      "execution_count": 45,
      "outputs": [
        {
          "output_type": "stream",
          "name": "stdout",
          "text": [
            "Albert Einstein\n",
            "J.K. Rowling\n",
            "Albert Einstein\n",
            "Jane Austen\n",
            "Marilyn Monroe\n",
            "Albert Einstein\n",
            "André Gide\n",
            "Thomas A. Edison\n",
            "Eleanor Roosevelt\n",
            "Steve Martin\n"
          ]
        }
      ]
    },
    {
      "cell_type": "code",
      "source": [
        "#scrape anything else we can\n",
        "for i in soup.findAll(\"div\",{\"class\":\"tags\"}):\n",
        "    print((i.find(\"meta\"))['content'])"
      ],
      "metadata": {
        "colab": {
          "base_uri": "https://localhost:8080/"
        },
        "id": "ut-KH3Gqb10D",
        "outputId": "4c135568-e68d-4372-d37c-16956577926c"
      },
      "execution_count": 46,
      "outputs": [
        {
          "output_type": "stream",
          "name": "stdout",
          "text": [
            "change,deep-thoughts,thinking,world\n",
            "abilities,choices\n",
            "inspirational,life,live,miracle,miracles\n",
            "aliteracy,books,classic,humor\n",
            "be-yourself,inspirational\n",
            "adulthood,success,value\n",
            "life,love\n",
            "edison,failure,inspirational,paraphrased\n",
            "misattributed-eleanor-roosevelt\n",
            "humor,obvious,simile\n"
          ]
        }
      ]
    },
    {
      "cell_type": "code",
      "source": [
        "quotes = []\n",
        "authors = []\n",
        "tags = []"
      ],
      "metadata": {
        "id": "F4iT-gbscGCL"
      },
      "execution_count": 47,
      "outputs": []
    },
    {
      "cell_type": "code",
      "source": [
        "for pages in range(1,10):    \n",
        "  x = requests.get('http://quotes.toscrape.com/page/'+str(pages)) \n",
        "  soup = BeautifulSoup(x.text)    \n",
        "    \n",
        "for i in soup.findAll(\"div\",{\"class\":\"quote\"}):\n",
        "        quotes.append((i.find(\"span\",{\"class\":\"text\"})).text)  \n",
        "   \n",
        "for j in soup.findAll(\"div\",{\"class\":\"quote\"}):\n",
        "        authors.append((j.find(\"small\",{\"class\":\"author\"})).text)    \n",
        "        for k in soup.findAll(\"div\",{\"class\":\"tags\"}):\n",
        "          tags.append((k.find(\"meta\"))['content'])\n",
        "\n"
      ],
      "metadata": {
        "id": "OTUsP2jncIKH"
      },
      "execution_count": 48,
      "outputs": []
    },
    {
      "cell_type": "code",
      "source": [
        "finaldx = pd.DataFrame(\n",
        "    {'Quotes':quotes,\n",
        "     'Authors':authors,\n",
        "    \n",
        "    })\n",
        "print(finaldx)"
      ],
      "metadata": {
        "colab": {
          "base_uri": "https://localhost:8080/"
        },
        "id": "Qs30UAt6crKK",
        "outputId": "93089eb4-8b4b-4da4-ec9d-44040739ae40"
      },
      "execution_count": 49,
      "outputs": [
        {
          "output_type": "stream",
          "name": "stdout",
          "text": [
            "                                              Quotes          Authors\n",
            "0  “Anyone who has never made a mistake has never...  Albert Einstein\n",
            "1  “A lady's imagination is very rapid; it jumps ...      Jane Austen\n",
            "2  “Remember, if the time should come when you ha...     J.K. Rowling\n",
            "3  “I declare after all there is no enjoyment lik...      Jane Austen\n",
            "4  “There are few people whom I really love, and ...      Jane Austen\n",
            "5  “Some day you will be old enough to start read...       C.S. Lewis\n",
            "6  “We are not necessarily doubting that God will...       C.S. Lewis\n",
            "7  “The fear of death follows from the fear of li...       Mark Twain\n",
            "8  “A lie can travel half way around the world wh...       Mark Twain\n",
            "9  “I believe in Christianity as I believe that t...       C.S. Lewis\n"
          ]
        }
      ]
    }
  ]
}